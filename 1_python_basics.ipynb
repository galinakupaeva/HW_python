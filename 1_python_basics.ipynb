{
 "cells": [
  {
   "cell_type": "markdown",
   "metadata": {},
   "source": [
    "## Задание 1\n",
    "Даны 2 переменных, в которых хранятся строки произвольной длины: phrase_1 и phrase_2. Напишите код, который проверяет какая из этих строк длиннее."
   ]
  },
  {
   "cell_type": "code",
   "execution_count": 1,
   "metadata": {},
   "outputs": [
    {
     "name": "stdout",
     "output_type": "stream",
     "text": [
      "Фраза 1 длиннее фразы 2\n"
     ]
    }
   ],
   "source": [
    "phrase_1 = 'Насколько проще было бы писать программы, если бы не заказчики'\n",
    "phrase_2 = '640Кб должно хватить для любых задач. Билл Гейтс (по легенде)'\n",
    "if len(phrase_1) > len(phrase_2):\n",
    "    print('Фраза 1 длиннее фразы 2')\n",
    "elif len(phrase_1) < len(phrase_2):\n",
    "    print('Фраза 2 длиннее фразы 1')\n",
    "else:\n",
    "    print('Фразы равной длины')"
   ]
  },
  {
   "cell_type": "markdown",
   "metadata": {},
   "source": [
    "## Задание 2\n",
    "Дана переменная, в которой хранится четырехзначное число (год). Необходимо написать программу, которая выведет, является ли данный год високосным или обычным."
   ]
  },
  {
   "cell_type": "code",
   "execution_count": 16,
   "metadata": {},
   "outputs": [
    {
     "name": "stdout",
     "output_type": "stream",
     "text": [
      "Введите год 153\n",
      "153 Обычный год\n"
     ]
    }
   ],
   "source": [
    "year = int(input('Введите год '))\n",
    "if (year % 4 != 0 or year % 100 == 0 and year % 400 != 0):\n",
    "    print(year, 'Обычный год')\n",
    "else:\n",
    "    print(year, 'Високостный год')"
   ]
  },
  {
   "cell_type": "markdown",
   "metadata": {},
   "source": [
    "## Задание 3\n",
    "\n",
    "Необходимо написать программу, которая будет запрашивать у пользователя месяц и дату рождения и выводить соответствующий знак зодиака."
   ]
  },
  {
   "cell_type": "code",
   "execution_count": 29,
   "metadata": {},
   "outputs": [
    {
     "name": "stdout",
     "output_type": "stream",
     "text": [
      "Введите день 30\n",
      "Введите месяц Апрель\n",
      "Телец\n"
     ]
    }
   ],
   "source": [
    "day = int(input('Введите день '))\n",
    "month = input('Введите месяц ')\n",
    "if (month == 'Январь' and 31 >= day >= 21) or (month == 'Февраль' and 20 >= day >=1):\n",
    "    print('Водолей')\n",
    "elif (month == 'Февраль' and 29 >= day >= 21) or (month == 'Март' and 20 >= day >=1):\n",
    "    print('Рыбы')\n",
    "elif (month == 'Март' and 31 >= day >= 21) or (month =='Апрель' and 20 >= day >=1):\n",
    "    print('Овен')\n",
    "elif (month == 'Апрель' and 30 >= day >= 21) or (month == 'Май' and 20 >= day >=1):\n",
    "    print('Телец')\n",
    "elif (month == 'Май' and 31 >= day >= 21) or (month == 'Июнь' and 21 >= day >=1):\n",
    "    print('Близнецы')\n",
    "elif (month == 'Июнь' and 30 >= day >= 22) or (month == 'Июль' and 22 >= day >=1):\n",
    "    print('Рак')\n",
    "elif (month == 'Июль' and 31 >= day >= 23) or (month == 'Август' and 23 >= day >=1):\n",
    "    print('Лев')\n",
    "elif (month == 'Август' and 31 >= day >= 24) or (month == 'Сентябрь' and 23 >= day >=1):\n",
    "    print('Дева')\n",
    "elif (month == 'Сентябрь' and 30 >= day >= 24) or (month == 'Октябрь' and 23 >= day >=1):\n",
    "    print('Весы')\n",
    "elif (month =='Октябрь' and 31 >= day >= 24) or (month == 'Ноябрь' and 22 >= day >=1):\n",
    "    print('Скорпион')\n",
    "elif (month == 'Ноябрь' and 30 >= day >= 23) or (month == 'Декабрь' and 21 >= day >=1):\n",
    "    print('Стрелец')\n",
    "elif (month == 'Декабрь' and 31 >= day >= 22) or (month == 'Январь' and 20 >= day >=1): \n",
    "    print('Козерог')\n",
    "else: print('Ввести месяц с заглавной буквы')\n"
   ]
  },
  {
   "cell_type": "markdown",
   "metadata": {},
   "source": [
    "## Задание 4\n",
    "Нужно написать программу для подбора упаковок по размерам товара."
   ]
  },
  {
   "cell_type": "code",
   "execution_count": 38,
   "metadata": {},
   "outputs": [
    {
     "name": "stdout",
     "output_type": "stream",
     "text": [
      "Введи ширину 45\n",
      "Введи длину 80\n",
      "Введи высоту 65\n",
      "Коробка №2\n"
     ]
    }
   ],
   "source": [
    "width = int(input('Введи ширину: '))\n",
    "length = int(input('Введи длину: '))\n",
    "height = int(input('Введи высоту: '))\n",
    "if ((width < 15) and (length < 15) and (height < 15)):\n",
    "    print('Коробка №1')\n",
    "elif (((50 > width > 15) or (50 > length > 15) or (50 > height > 15)) and (length <= 200)):\n",
    "    print('Коробка №2')\n",
    "elif (length > 200):\n",
    "    print('Упаковка для лыж')\n",
    "else:\n",
    "    print('Стандартная упаковка №3')\n"
   ]
  },
  {
   "cell_type": "markdown",
   "metadata": {},
   "source": [
    "## Задание 5\n",
    "Напишите программу, которая будет определять, является ли данный билет \"счастливым\". Билет считается счастливым, если сумма первых трех цифр совпадает с суммой последних трех цифр номера."
   ]
  },
  {
   "cell_type": "code",
   "execution_count": 45,
   "metadata": {},
   "outputs": [
    {
     "name": "stdout",
     "output_type": "stream",
     "text": [
      "Введи шестизначное число 123123\n",
      "Счастливый билет\n"
     ]
    }
   ],
   "source": [
    "number = (input('Введи шестизначное число: '))\n",
    "if(int(number[0])+int(number[1])+int(number[2]) == int(number[3])+int(number[4])+int(number[5])):\n",
    "    print('Счастливый билет')\n",
    "else:\n",
    "    print('Несчастливый билет')"
   ]
  },
  {
   "cell_type": "markdown",
   "metadata": {},
   "source": [
    "## Задание 6\n",
    "Напишите программу, которая сможет вычислять площади трех фигур (круг, треугольник и прямоугольник)"
   ]
  },
  {
   "cell_type": "code",
   "execution_count": 55,
   "metadata": {},
   "outputs": [
    {
     "name": "stdout",
     "output_type": "stream",
     "text": [
      "Введи фигуру: круг, треугольник или прямоугольник - прямоугольник\n",
      "Введи длину стороны a: 5\n",
      "Введи длину стороны b: 2\n",
      "Площадь прямоугольника равна  10\n"
     ]
    }
   ],
   "source": [
    "import math\n",
    "figure = input('Введи фигуру: круг, треугольник или прямоугольник - ')\n",
    "if figure == 'круг':\n",
    "    radius = int(input('Введи радиус: '))\n",
    "    print('Площадь круга равна: ', round(math.pi*(radius**2),2))\n",
    "elif figure == 'треугольник':\n",
    "    a = int(input('Введи длину стороны a: '))\n",
    "    b = int(input('Введи длину стороны b: '))\n",
    "    c = int(input('Введи длину стороны c: '))\n",
    "    p = (a+b+c)/2\n",
    "    print('Площадь треугольника равна: ', round((p*(p-a)*(p-b)*(p-c))**0.5,2))\n",
    "else:\n",
    "    a = int(input('Введи длину стороны a: '))\n",
    "    b = int(input('Введи длину стороны b: '))\n",
    "    print('Площадь прямоугольника равна: ', round(a*b, 2))\n",
    "    \n"
   ]
  },
  {
   "cell_type": "code",
   "execution_count": null,
   "metadata": {},
   "outputs": [],
   "source": []
  }
 ],
 "metadata": {
  "kernelspec": {
   "display_name": "Python 3",
   "language": "python",
   "name": "python3"
  },
  "language_info": {
   "codemirror_mode": {
    "name": "ipython",
    "version": 3
   },
   "file_extension": ".py",
   "mimetype": "text/x-python",
   "name": "python",
   "nbconvert_exporter": "python",
   "pygments_lexer": "ipython3",
   "version": "3.7.6"
  }
 },
 "nbformat": 4,
 "nbformat_minor": 4
}
