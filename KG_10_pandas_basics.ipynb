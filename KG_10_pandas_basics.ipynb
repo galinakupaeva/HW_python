{
 "cells": [
  {
   "cell_type": "markdown",
   "metadata": {},
   "source": [
    "### Задание 1\n",
    "Скачайте с сайта https://grouplens.org/datasets/movielens/ датасет любого размера. Определите какому фильму было выставлено больше всего оценок 5.0."
   ]
  },
  {
   "cell_type": "code",
   "execution_count": 1,
   "metadata": {},
   "outputs": [],
   "source": [
    "import pandas as pd"
   ]
  },
  {
   "cell_type": "code",
   "execution_count": 27,
   "metadata": {
    "scrolled": true
   },
   "outputs": [
    {
     "data": {
      "text/html": [
       "<div>\n",
       "<style scoped>\n",
       "    .dataframe tbody tr th:only-of-type {\n",
       "        vertical-align: middle;\n",
       "    }\n",
       "\n",
       "    .dataframe tbody tr th {\n",
       "        vertical-align: top;\n",
       "    }\n",
       "\n",
       "    .dataframe thead th {\n",
       "        text-align: right;\n",
       "    }\n",
       "</style>\n",
       "<table border=\"1\" class=\"dataframe\">\n",
       "  <thead>\n",
       "    <tr style=\"text-align: right;\">\n",
       "      <th></th>\n",
       "      <th>userId</th>\n",
       "      <th>movieId</th>\n",
       "      <th>rating</th>\n",
       "      <th>timestamp</th>\n",
       "    </tr>\n",
       "  </thead>\n",
       "  <tbody>\n",
       "    <tr>\n",
       "      <th>0</th>\n",
       "      <td>1</td>\n",
       "      <td>1</td>\n",
       "      <td>4.0</td>\n",
       "      <td>964982703</td>\n",
       "    </tr>\n",
       "    <tr>\n",
       "      <th>1</th>\n",
       "      <td>1</td>\n",
       "      <td>3</td>\n",
       "      <td>4.0</td>\n",
       "      <td>964981247</td>\n",
       "    </tr>\n",
       "    <tr>\n",
       "      <th>2</th>\n",
       "      <td>1</td>\n",
       "      <td>6</td>\n",
       "      <td>4.0</td>\n",
       "      <td>964982224</td>\n",
       "    </tr>\n",
       "    <tr>\n",
       "      <th>3</th>\n",
       "      <td>1</td>\n",
       "      <td>47</td>\n",
       "      <td>5.0</td>\n",
       "      <td>964983815</td>\n",
       "    </tr>\n",
       "    <tr>\n",
       "      <th>4</th>\n",
       "      <td>1</td>\n",
       "      <td>50</td>\n",
       "      <td>5.0</td>\n",
       "      <td>964982931</td>\n",
       "    </tr>\n",
       "  </tbody>\n",
       "</table>\n",
       "</div>"
      ],
      "text/plain": [
       "   userId  movieId  rating  timestamp\n",
       "0       1        1     4.0  964982703\n",
       "1       1        3     4.0  964981247\n",
       "2       1        6     4.0  964982224\n",
       "3       1       47     5.0  964983815\n",
       "4       1       50     5.0  964982931"
      ]
     },
     "execution_count": 27,
     "metadata": {},
     "output_type": "execute_result"
    }
   ],
   "source": [
    "#импортируем данные\n",
    "ratings = pd.read_csv('ml-latest-small/ratings.csv')\n",
    "ratings.head()"
   ]
  },
  {
   "cell_type": "code",
   "execution_count": 31,
   "metadata": {},
   "outputs": [
    {
     "data": {
      "text/html": [
       "<div>\n",
       "<style scoped>\n",
       "    .dataframe tbody tr th:only-of-type {\n",
       "        vertical-align: middle;\n",
       "    }\n",
       "\n",
       "    .dataframe tbody tr th {\n",
       "        vertical-align: top;\n",
       "    }\n",
       "\n",
       "    .dataframe thead th {\n",
       "        text-align: right;\n",
       "    }\n",
       "</style>\n",
       "<table border=\"1\" class=\"dataframe\">\n",
       "  <thead>\n",
       "    <tr style=\"text-align: right;\">\n",
       "      <th></th>\n",
       "      <th>userId</th>\n",
       "      <th>rating</th>\n",
       "      <th>timestamp</th>\n",
       "    </tr>\n",
       "    <tr>\n",
       "      <th>movieId</th>\n",
       "      <th></th>\n",
       "      <th></th>\n",
       "      <th></th>\n",
       "    </tr>\n",
       "  </thead>\n",
       "  <tbody>\n",
       "    <tr>\n",
       "      <th>318</th>\n",
       "      <td>153</td>\n",
       "      <td>153</td>\n",
       "      <td>153</td>\n",
       "    </tr>\n",
       "    <tr>\n",
       "      <th>296</th>\n",
       "      <td>123</td>\n",
       "      <td>123</td>\n",
       "      <td>123</td>\n",
       "    </tr>\n",
       "    <tr>\n",
       "      <th>356</th>\n",
       "      <td>116</td>\n",
       "      <td>116</td>\n",
       "      <td>116</td>\n",
       "    </tr>\n",
       "    <tr>\n",
       "      <th>2571</th>\n",
       "      <td>109</td>\n",
       "      <td>109</td>\n",
       "      <td>109</td>\n",
       "    </tr>\n",
       "    <tr>\n",
       "      <th>260</th>\n",
       "      <td>104</td>\n",
       "      <td>104</td>\n",
       "      <td>104</td>\n",
       "    </tr>\n",
       "  </tbody>\n",
       "</table>\n",
       "</div>"
      ],
      "text/plain": [
       "         userId  rating  timestamp\n",
       "movieId                           \n",
       "318         153     153        153\n",
       "296         123     123        123\n",
       "356         116     116        116\n",
       "2571        109     109        109\n",
       "260         104     104        104"
      ]
     },
     "execution_count": 31,
     "metadata": {},
     "output_type": "execute_result"
    }
   ],
   "source": [
    "# фильтрую данные по условию, что рейтинг равен 5\n",
    "# группирую по фильму и считаю количество фильмов в каждой группе\n",
    "# сортирую по убыванию по любому из столбцов: userIdб rating, timestamp. Выбрала столбец reting.\n",
    "\n",
    "ratings.query('rating == 5').groupby('movieId').count().sort_values('rating', ascending = False).head()"
   ]
  },
  {
   "cell_type": "code",
   "execution_count": 32,
   "metadata": {},
   "outputs": [
    {
     "data": {
      "text/html": [
       "<div>\n",
       "<style scoped>\n",
       "    .dataframe tbody tr th:only-of-type {\n",
       "        vertical-align: middle;\n",
       "    }\n",
       "\n",
       "    .dataframe tbody tr th {\n",
       "        vertical-align: top;\n",
       "    }\n",
       "\n",
       "    .dataframe thead th {\n",
       "        text-align: right;\n",
       "    }\n",
       "</style>\n",
       "<table border=\"1\" class=\"dataframe\">\n",
       "  <thead>\n",
       "    <tr style=\"text-align: right;\">\n",
       "      <th></th>\n",
       "      <th>rating</th>\n",
       "    </tr>\n",
       "    <tr>\n",
       "      <th>movieId</th>\n",
       "      <th></th>\n",
       "    </tr>\n",
       "  </thead>\n",
       "  <tbody>\n",
       "    <tr>\n",
       "      <th>318</th>\n",
       "      <td>153</td>\n",
       "    </tr>\n",
       "    <tr>\n",
       "      <th>296</th>\n",
       "      <td>123</td>\n",
       "    </tr>\n",
       "    <tr>\n",
       "      <th>356</th>\n",
       "      <td>116</td>\n",
       "    </tr>\n",
       "    <tr>\n",
       "      <th>2571</th>\n",
       "      <td>109</td>\n",
       "    </tr>\n",
       "    <tr>\n",
       "      <th>260</th>\n",
       "      <td>104</td>\n",
       "    </tr>\n",
       "  </tbody>\n",
       "</table>\n",
       "</div>"
      ],
      "text/plain": [
       "         rating\n",
       "movieId        \n",
       "318         153\n",
       "296         123\n",
       "356         116\n",
       "2571        109\n",
       "260         104"
      ]
     },
     "execution_count": 32,
     "metadata": {},
     "output_type": "execute_result"
    }
   ],
   "source": [
    "# ВАРИАНТ 2. Вначале выбираю только те столбцы, по которым буду группировать \n",
    "# фильтрую данные по условию, что рейтинг равен 5\n",
    "# группирую по фильму и считаю количество фильмов в каждой группе\n",
    "# сортирую по убыванию по столбецe reting.\n",
    " \n",
    "rat_filter = ratings[['movieId','rating']]\n",
    "rat_filter.query('rating == 5').groupby('movieId').count().sort_values('rating', ascending = False).head()"
   ]
  },
  {
   "cell_type": "markdown",
   "metadata": {},
   "source": [
    "### Задание 2\n",
    "По данным файла power.csv посчитайте суммарное потребление стран Прибалтики (Латвия, Литва и Эстония) категорий 4, 12 и 21 за период с 2005 по 2010 года. Не учитывайте в расчетах отрицательные значения quantity."
   ]
  },
  {
   "cell_type": "code",
   "execution_count": 33,
   "metadata": {},
   "outputs": [
    {
     "data": {
      "text/html": [
       "<div>\n",
       "<style scoped>\n",
       "    .dataframe tbody tr th:only-of-type {\n",
       "        vertical-align: middle;\n",
       "    }\n",
       "\n",
       "    .dataframe tbody tr th {\n",
       "        vertical-align: top;\n",
       "    }\n",
       "\n",
       "    .dataframe thead th {\n",
       "        text-align: right;\n",
       "    }\n",
       "</style>\n",
       "<table border=\"1\" class=\"dataframe\">\n",
       "  <thead>\n",
       "    <tr style=\"text-align: right;\">\n",
       "      <th></th>\n",
       "      <th>country</th>\n",
       "      <th>year</th>\n",
       "      <th>quantity</th>\n",
       "      <th>category</th>\n",
       "    </tr>\n",
       "  </thead>\n",
       "  <tbody>\n",
       "    <tr>\n",
       "      <th>0</th>\n",
       "      <td>Austria</td>\n",
       "      <td>1996</td>\n",
       "      <td>5.0</td>\n",
       "      <td>1</td>\n",
       "    </tr>\n",
       "    <tr>\n",
       "      <th>1</th>\n",
       "      <td>Austria</td>\n",
       "      <td>1995</td>\n",
       "      <td>17.0</td>\n",
       "      <td>1</td>\n",
       "    </tr>\n",
       "    <tr>\n",
       "      <th>2</th>\n",
       "      <td>Belgium</td>\n",
       "      <td>2014</td>\n",
       "      <td>0.0</td>\n",
       "      <td>1</td>\n",
       "    </tr>\n",
       "    <tr>\n",
       "      <th>3</th>\n",
       "      <td>Belgium</td>\n",
       "      <td>2013</td>\n",
       "      <td>0.0</td>\n",
       "      <td>1</td>\n",
       "    </tr>\n",
       "    <tr>\n",
       "      <th>4</th>\n",
       "      <td>Belgium</td>\n",
       "      <td>2012</td>\n",
       "      <td>35.0</td>\n",
       "      <td>1</td>\n",
       "    </tr>\n",
       "  </tbody>\n",
       "</table>\n",
       "</div>"
      ],
      "text/plain": [
       "   country  year  quantity  category\n",
       "0  Austria  1996       5.0         1\n",
       "1  Austria  1995      17.0         1\n",
       "2  Belgium  2014       0.0         1\n",
       "3  Belgium  2013       0.0         1\n",
       "4  Belgium  2012      35.0         1"
      ]
     },
     "execution_count": 33,
     "metadata": {},
     "output_type": "execute_result"
    }
   ],
   "source": [
    "#импортируем данные\n",
    "data = pd.read_csv('database/power.csv')\n",
    "data.head()"
   ]
  },
  {
   "cell_type": "code",
   "execution_count": 40,
   "metadata": {
    "scrolled": true
   },
   "outputs": [],
   "source": [
    "#найдем как называются страны Прибалтики ( Latvia, Lithuania, Estonia, Baltic country)\n",
    "#выводим весь список уникальных значений стран\n",
    "#data['country'].unique()"
   ]
  },
  {
   "cell_type": "code",
   "execution_count": 37,
   "metadata": {},
   "outputs": [
    {
     "data": {
      "text/plain": [
       "array(['Austria', 'Czechia', 'Romania', 'Serbia', 'Slovakia', 'Bulgaria',\n",
       "       'Croatia', 'Lithuania', 'Other Asia', 'T.F.Yug.Rep. Macedonia',\n",
       "       'Colombia', 'Australia', 'Ethiopia', 'Serbia and Montenegro',\n",
       "       'Tunisia', 'Georgia', 'Latvia', 'Armenia', 'Russian Federation',\n",
       "       'Bolivia (Plur. State of)', 'Estonia', 'Ethiopia, incl. Eritrea',\n",
       "       'French Guiana', 'Indonesia', 'Liberia', 'Malaysia', 'Mauritania',\n",
       "       'Namibia', 'New Caledonia', 'Slovenia', 'United Rep. of Tanzania',\n",
       "       'Yugoslavia, SFR (former)', 'Zambia', 'Algeria',\n",
       "       'French Polynesia', 'Syrian Arab Republic', 'India', 'Nigeria',\n",
       "       'Somalia', 'Albania', 'Bosnia and Herzegovina',\n",
       "       'Czechoslovakia (former)', 'Equatorial Guinea', 'Saudi Arabia',\n",
       "       'St. Lucia', 'Mongolia', 'Cambodia', 'Gambia',\n",
       "       'Micronesia (Fed. States of)', 'Northern Mariana Islands'],\n",
       "      dtype=object)"
      ]
     },
     "execution_count": 37,
     "metadata": {},
     "output_type": "execute_result"
    }
   ],
   "source": [
    "# ищем написание стран (сделала для пробы)\n",
    "data[data ['country'].str.contains('ia', case = False)]['country'].unique()"
   ]
  },
  {
   "cell_type": "code",
   "execution_count": 61,
   "metadata": {},
   "outputs": [
    {
     "data": {
      "text/html": [
       "<div>\n",
       "<style scoped>\n",
       "    .dataframe tbody tr th:only-of-type {\n",
       "        vertical-align: middle;\n",
       "    }\n",
       "\n",
       "    .dataframe tbody tr th {\n",
       "        vertical-align: top;\n",
       "    }\n",
       "\n",
       "    .dataframe thead th {\n",
       "        text-align: right;\n",
       "    }\n",
       "</style>\n",
       "<table border=\"1\" class=\"dataframe\">\n",
       "  <thead>\n",
       "    <tr style=\"text-align: right;\">\n",
       "      <th></th>\n",
       "      <th>country</th>\n",
       "      <th>year</th>\n",
       "      <th>quantity</th>\n",
       "      <th>category</th>\n",
       "    </tr>\n",
       "  </thead>\n",
       "  <tbody>\n",
       "    <tr>\n",
       "      <th>373</th>\n",
       "      <td>Lithuania</td>\n",
       "      <td>2014</td>\n",
       "      <td>39.0</td>\n",
       "      <td>1</td>\n",
       "    </tr>\n",
       "    <tr>\n",
       "      <th>374</th>\n",
       "      <td>Lithuania</td>\n",
       "      <td>2013</td>\n",
       "      <td>192.0</td>\n",
       "      <td>1</td>\n",
       "    </tr>\n",
       "    <tr>\n",
       "      <th>375</th>\n",
       "      <td>Lithuania</td>\n",
       "      <td>2012</td>\n",
       "      <td>196.0</td>\n",
       "      <td>1</td>\n",
       "    </tr>\n",
       "    <tr>\n",
       "      <th>376</th>\n",
       "      <td>Lithuania</td>\n",
       "      <td>2011</td>\n",
       "      <td>171.0</td>\n",
       "      <td>1</td>\n",
       "    </tr>\n",
       "    <tr>\n",
       "      <th>377</th>\n",
       "      <td>Lithuania</td>\n",
       "      <td>2010</td>\n",
       "      <td>158.0</td>\n",
       "      <td>1</td>\n",
       "    </tr>\n",
       "  </tbody>\n",
       "</table>\n",
       "</div>"
      ],
      "text/plain": [
       "       country  year  quantity  category\n",
       "373  Lithuania  2014      39.0         1\n",
       "374  Lithuania  2013     192.0         1\n",
       "375  Lithuania  2012     196.0         1\n",
       "376  Lithuania  2011     171.0         1\n",
       "377  Lithuania  2010     158.0         1"
      ]
     },
     "execution_count": 61,
     "metadata": {},
     "output_type": "execute_result"
    }
   ],
   "source": [
    "# создаем новый df отфильтрованный по нужным странам (условие или)\n",
    "data_country = data[ (data['country'] == 'Latvia') | (data['country'] == 'Lithuania') | (data['country'] == 'Estonia')]\n",
    "data_country.head()"
   ]
  },
  {
   "cell_type": "code",
   "execution_count": 76,
   "metadata": {},
   "outputs": [
    {
     "data": {
      "text/plain": [
       "46.0"
      ]
     },
     "execution_count": 76,
     "metadata": {},
     "output_type": "execute_result"
    }
   ],
   "source": [
    "#фильтрую данные по году (с 2005 по 2010 года.)\n",
    "#фильтрую данные по категориям (4,12 и 21)\n",
    "#суммируем все значения столбца quantity, если показатель не отрицательный\n",
    "data_country.query('2010 >= year >= 2005').query('category == 4' or'category == 12' or'category == 21' ).query('quantity >= 0')['quantity'].sum()\n"
   ]
  },
  {
   "cell_type": "markdown",
   "metadata": {},
   "source": [
    "### Задание 3\n",
    "Выберите страницу любого сайта с табличными данными. Импортируйте таблицы в pandas dataframe.\n",
    "Примеры страниц (необязательно брать именно эти):\n",
    "https://fortrader.org/quotes\n",
    "https://www.finanz.ru/valyuty/v-realnom-vremeni"
   ]
  },
  {
   "cell_type": "code",
   "execution_count": 31,
   "metadata": {},
   "outputs": [],
   "source": [
    "page_url1 = 'https://smart-lab.ru/q/shares/'\n",
    "df = pd.read_html(page_url1, attrs = {'class': 'simple-little-table trades-table'}, encoding='utf-8')"
   ]
  },
  {
   "cell_type": "code",
   "execution_count": 36,
   "metadata": {},
   "outputs": [
    {
     "data": {
      "text/plain": [
       "[         № Unnamed: 1     Название  Тикер  Unnamed: 4  Unnamed: 5  Unnamed: 6  \\\n",
       " 0      NaN   18:51:01  Индекс ММВБ  IMOEX         NaN         NaN         NaN   \n",
       " 1      1.0   18:45:56     Сбербанк   SBER         NaN         NaN         NaN   \n",
       " 2      2.0   18:45:46   ГАЗПРОМ ао   GAZP         NaN         NaN         NaN   \n",
       " 3      3.0   18:45:36    ГМКНорНик   GMKN         NaN         NaN         NaN   \n",
       " 4      4.0   18:45:24       ЛУКОЙЛ   LKOH         NaN         NaN         NaN   \n",
       " ..     ...        ...          ...    ...         ...         ...         ...   \n",
       " 277  277.0   18:40:05      КЗМС ао   KZMS         NaN         NaN         NaN   \n",
       " 278  278.0   18:40:05    ГАЗКОН-ао   GAZC         NaN         NaN         NaN   \n",
       " 279  279.0   18:40:02    ТрансК ао   TRCN         NaN         NaN         NaN   \n",
       " 280  280.0   18:40:05    КУЗОЦМ ао   KUNF         NaN         NaN         NaN   \n",
       " 281  281.0   18:40:05      Кокс ао   KSGR         NaN         NaN         NaN   \n",
       " \n",
       "      Цена, посл  Изм, % Объем, млн руб 1 нед, %  1 м, %  ytd, %  12м, %  \\\n",
       " 0       3598.44  +0.84%      86 066.82    +3.2%   +2.7%   +9.4%  +42.0%   \n",
       " 1        289.03  +1.87%      17 435.31    +3.0%   +2.2%   +6.6%  +50.4%   \n",
       " 2        235.02  +0.17%      10 473.77    +6.0%   +3.2%  +10.5%  +27.0%   \n",
       " 3      25500.00  +1.55%       8 226.23    +4.3%  +11.9%   +7.4%  +28.9%   \n",
       " 4       6062.50  +0.13%       4 424.85    +2.1%   -2.2%  +17.0%  +30.9%   \n",
       " ..          ...     ...            ...      ...     ...     ...     ...   \n",
       " 277         NaN      0%            NaN      NaN     NaN     NaN     NaN   \n",
       " 278         NaN      0%            NaN      NaN     NaN     NaN     NaN   \n",
       " 279         NaN      0%            NaN      NaN     NaN     NaN     NaN   \n",
       " 280         NaN      0%            NaN      NaN     NaN     NaN     NaN   \n",
       " 281         NaN      0%            NaN      NaN     NaN     NaN     NaN   \n",
       " \n",
       "     Капит-я млрд руб  Капит-я млрд $ ИзмОбъема Изм позпо Объему Unnamed: 18  \\\n",
       " 0          58 381.97          772.72      -12%                —           —   \n",
       " 1           6 513.83           86.21      -25%              NaN           +   \n",
       " 2           5 563.75           73.64      -20%              NaN           +   \n",
       " 3           4 035.26           53.41      -19%              NaN           +   \n",
       " 4           4 200.50           55.60      -28%              NaN           +   \n",
       " ..               ...             ...       ...              ...         ...   \n",
       " 277             0.20            0.00       NaN              NaN           +   \n",
       " 278            58.96            0.78       NaN              NaN           +   \n",
       " 279           119.43            1.58       NaN              NaN           +   \n",
       " 280              NaN             NaN       NaN              NaN           +   \n",
       " 281              NaN             NaN       NaN              NaN           +   \n",
       " \n",
       "     Unnamed: 19  \n",
       " 0             —  \n",
       " 1             +  \n",
       " 2             +  \n",
       " 3             +  \n",
       " 4             +  \n",
       " ..          ...  \n",
       " 277           +  \n",
       " 278           +  \n",
       " 279           +  \n",
       " 280           +  \n",
       " 281           +  \n",
       " \n",
       " [282 rows x 20 columns]]"
      ]
     },
     "execution_count": 36,
     "metadata": {},
     "output_type": "execute_result"
    }
   ],
   "source": [
    "df[:5]"
   ]
  },
  {
   "cell_type": "code",
   "execution_count": 16,
   "metadata": {},
   "outputs": [],
   "source": [
    "page_url = 'https://www.finanz.ru/'\n",
    "df1 = pd.read_html(page_url, attrs = {'class': 'news_table'}, encoding='utf-8')"
   ]
  },
  {
   "cell_type": "code",
   "execution_count": 27,
   "metadata": {},
   "outputs": [
    {
     "data": {
      "text/html": [
       "<div>\n",
       "<style scoped>\n",
       "    .dataframe tbody tr th:only-of-type {\n",
       "        vertical-align: middle;\n",
       "    }\n",
       "\n",
       "    .dataframe tbody tr th {\n",
       "        vertical-align: top;\n",
       "    }\n",
       "\n",
       "    .dataframe thead th {\n",
       "        text-align: right;\n",
       "    }\n",
       "</style>\n",
       "<table border=\"1\" class=\"dataframe\">\n",
       "  <thead>\n",
       "    <tr style=\"text-align: right;\">\n",
       "      <th></th>\n",
       "      <th>Имя</th>\n",
       "      <th>Unnamed: 1</th>\n",
       "      <th>%</th>\n",
       "      <th>курс</th>\n",
       "      <th>Дата</th>\n",
       "    </tr>\n",
       "  </thead>\n",
       "  <tbody>\n",
       "    <tr>\n",
       "      <th>0</th>\n",
       "      <td>EUR/RUB</td>\n",
       "      <td>NaN</td>\n",
       "      <td>-5824</td>\n",
       "      <td>90893</td>\n",
       "      <td>17.04.2021 00:32:00</td>\n",
       "    </tr>\n",
       "    <tr>\n",
       "      <th>1</th>\n",
       "      <td>USD/RUB</td>\n",
       "      <td>NaN</td>\n",
       "      <td>-8424</td>\n",
       "      <td>75801</td>\n",
       "      <td>17.04.2021 00:00:00</td>\n",
       "    </tr>\n",
       "    <tr>\n",
       "      <th>2</th>\n",
       "      <td>CHF/RUB</td>\n",
       "      <td>NaN</td>\n",
       "      <td>254</td>\n",
       "      <td>823835</td>\n",
       "      <td>17.04.2021 06:07:00</td>\n",
       "    </tr>\n",
       "    <tr>\n",
       "      <th>3</th>\n",
       "      <td>JPY/RUB</td>\n",
       "      <td>NaN</td>\n",
       "      <td>2263</td>\n",
       "      <td>6966</td>\n",
       "      <td>17.04.2021 06:07:00</td>\n",
       "    </tr>\n",
       "    <tr>\n",
       "      <th>4</th>\n",
       "      <td>GBP/RUB</td>\n",
       "      <td>NaN</td>\n",
       "      <td>2539</td>\n",
       "      <td>1048631</td>\n",
       "      <td>17.04.2021 06:07:00</td>\n",
       "    </tr>\n",
       "    <tr>\n",
       "      <th>5</th>\n",
       "      <td>NOK/RUB</td>\n",
       "      <td>NaN</td>\n",
       "      <td>2539</td>\n",
       "      <td>90651</td>\n",
       "      <td>17.04.2021 06:07:00</td>\n",
       "    </tr>\n",
       "    <tr>\n",
       "      <th>6</th>\n",
       "      <td>AUD/RUB</td>\n",
       "      <td>NaN</td>\n",
       "      <td>2604</td>\n",
       "      <td>586662</td>\n",
       "      <td>17.04.2021 06:07:00</td>\n",
       "    </tr>\n",
       "    <tr>\n",
       "      <th>7</th>\n",
       "      <td>NZD/RUB</td>\n",
       "      <td>NaN</td>\n",
       "      <td>1488</td>\n",
       "      <td>540879</td>\n",
       "      <td>17.04.2021 06:07:00</td>\n",
       "    </tr>\n",
       "    <tr>\n",
       "      <th>8</th>\n",
       "      <td>TRY/RUB</td>\n",
       "      <td>NaN</td>\n",
       "      <td>254</td>\n",
       "      <td>93907</td>\n",
       "      <td>17.04.2021 06:07:00</td>\n",
       "    </tr>\n",
       "  </tbody>\n",
       "</table>\n",
       "</div>"
      ],
      "text/plain": [
       "       Имя  Unnamed: 1     %     курс                 Дата\n",
       "0  EUR/RUB         NaN -5824    90893  17.04.2021 00:32:00\n",
       "1  USD/RUB         NaN -8424    75801  17.04.2021 00:00:00\n",
       "2  CHF/RUB         NaN   254   823835  17.04.2021 06:07:00\n",
       "3  JPY/RUB         NaN  2263     6966  17.04.2021 06:07:00\n",
       "4  GBP/RUB         NaN  2539  1048631  17.04.2021 06:07:00\n",
       "5  NOK/RUB         NaN  2539    90651  17.04.2021 06:07:00\n",
       "6  AUD/RUB         NaN  2604   586662  17.04.2021 06:07:00\n",
       "7  NZD/RUB         NaN  1488   540879  17.04.2021 06:07:00\n",
       "8  TRY/RUB         NaN   254    93907  17.04.2021 06:07:00"
      ]
     },
     "execution_count": 27,
     "metadata": {},
     "output_type": "execute_result"
    }
   ],
   "source": [
    "df1[3]"
   ]
  },
  {
   "cell_type": "code",
   "execution_count": null,
   "metadata": {},
   "outputs": [],
   "source": []
  }
 ],
 "metadata": {
  "kernelspec": {
   "display_name": "Python 3",
   "language": "python",
   "name": "python3"
  },
  "language_info": {
   "codemirror_mode": {
    "name": "ipython",
    "version": 3
   },
   "file_extension": ".py",
   "mimetype": "text/x-python",
   "name": "python",
   "nbconvert_exporter": "python",
   "pygments_lexer": "ipython3",
   "version": "3.7.6"
  }
 },
 "nbformat": 4,
 "nbformat_minor": 4
}
