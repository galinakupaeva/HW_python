{
 "cells": [
  {
   "cell_type": "markdown",
   "metadata": {
    "id": "tv16Wl6XPQ0K"
   },
   "source": [
    "Исходные данные"
   ]
  },
  {
   "cell_type": "code",
   "execution_count": 1,
   "metadata": {
    "executionInfo": {
     "elapsed": 573,
     "status": "ok",
     "timestamp": 1617120817827,
     "user": {
      "displayName": "Галина Купаева",
      "photoUrl": "",
      "userId": "06657045830531362554"
     },
     "user_tz": -300
    },
    "id": "v23673R6PQ0a"
   },
   "outputs": [],
   "source": [
    "# Перечень документов\n",
    "documents = [\n",
    "{'type': 'passport', 'number': '2207 876234', 'name': 'Василий Гупкин'},\n",
    "{'type': 'invoice', 'number': '11-2', 'name': 'Геннадий Покемонов'},\n",
    "{'type': 'insurance', 'number': '10006', 'name': 'Аристарх Павлов'}\n",
    "]"
   ]
  },
  {
   "cell_type": "code",
   "execution_count": 2,
   "metadata": {
    "executionInfo": {
     "elapsed": 578,
     "status": "ok",
     "timestamp": 1617127109305,
     "user": {
      "displayName": "Галина Купаева",
      "photoUrl": "",
      "userId": "06657045830531362554"
     },
     "user_tz": -300
    },
    "id": "Ys1yo1lAPQ0a"
   },
   "outputs": [],
   "source": [
    "# Перечень полок\n",
    "directories = {\n",
    "'1': ['2207 876234', '11-2'],\n",
    "'2': ['10006'],\n",
    "'3': []\n",
    "}"
   ]
  },
  {
   "cell_type": "markdown",
   "metadata": {
    "id": "80i6TPWfPQ0e"
   },
   "source": [
    "### Итоговая работа с базой данных"
   ]
  },
  {
   "cell_type": "code",
   "execution_count": 15,
   "metadata": {
    "colab": {
     "base_uri": "https://localhost:8080/"
    },
    "executionInfo": {
     "elapsed": 5370,
     "status": "ok",
     "timestamp": 1617127202385,
     "user": {
      "displayName": "Галина Купаева",
      "photoUrl": "",
      "userId": "06657045830531362554"
     },
     "user_tz": -300
    },
    "id": "I7O6SbEXPQ0e",
    "outputId": "8b0f3663-4be2-4113-d6e0-2a93309f423b"
   },
   "outputs": [
    {
     "name": "stdout",
     "output_type": "stream",
     "text": [
      "Введи команду (p/s/l/as/ds): ds\n",
      "Введите номер полки: 6\n",
      "Полка удалена. Текущий перечень полок: 1, 2, 3\n"
     ]
    }
   ],
   "source": [
    "command = input('Введи команду (p/s/l/as/ds): ')\n",
    "if command == 'p':\n",
    "    name_by_number(documents)\n",
    "elif command == 's':\n",
    "    plase_by_number(directories)\n",
    "elif command == 'l':\n",
    "    general_information(documents, directories)\n",
    "elif command == 'as':\n",
    "    now_plase(directories)\n",
    "elif command == 'ds':\n",
    "    del_plase(directories)\n",
    "    \n",
    "  "
   ]
  },
  {
   "cell_type": "code",
   "execution_count": 6,
   "metadata": {
    "executionInfo": {
     "elapsed": 687,
     "status": "ok",
     "timestamp": 1617121036448,
     "user": {
      "displayName": "Галина Купаева",
      "photoUrl": "",
      "userId": "06657045830531362554"
     },
     "user_tz": -300
    },
    "id": "Dx3DMLNUPQ0a"
   },
   "outputs": [],
   "source": [
    "  # Пользователь по команде “p” может узнать владельца документа по его номеру\n",
    "def name_by_number(document):\n",
    "    number_doc = input('Введите номер документа: ')\n",
    "    for doc in document:\n",
    "        if (doc['number'] == number_doc):\n",
    "            print(doc['name'])\n",
    "            return \n",
    "    print('Документ не найден в базе')\n",
    " "
   ]
  },
  {
   "cell_type": "code",
   "execution_count": 7,
   "metadata": {
    "executionInfo": {
     "elapsed": 578,
     "status": "ok",
     "timestamp": 1617121050195,
     "user": {
      "displayName": "Галина Купаева",
      "photoUrl": "",
      "userId": "06657045830531362554"
     },
     "user_tz": -300
    },
    "id": "dIScXydVPQ0c"
   },
   "outputs": [],
   "source": [
    "# Пользователь по команде “s” может по номеру документа узнать на какой полке он хранится\n",
    "def plase_by_number(directories):\n",
    "    number_doc = input('Введите номер документа: ')\n",
    "    for k, v in directories.items():\n",
    "        if number_doc in list(v):\n",
    "            print('Документ хранится на полке:', k)\n",
    "            return \n",
    "    print('Документ не найден в базе')\n",
    " "
   ]
  },
  {
   "cell_type": "code",
   "execution_count": 8,
   "metadata": {
    "executionInfo": {
     "elapsed": 576,
     "status": "ok",
     "timestamp": 1617124108360,
     "user": {
      "displayName": "Галина Купаева",
      "photoUrl": "",
      "userId": "06657045830531362554"
     },
     "user_tz": -300
    },
    "id": "fw2N_A-s7TRr"
   },
   "outputs": [],
   "source": [
    "# Пользователь по команде “l” может увидеть полную информацию по всем документам\n",
    "def general_information(document, directories):\n",
    "    for k, v in directories.items():\n",
    "        for doc in document:\n",
    "            if (doc['number'] in v):\n",
    "                print(f\"№: {doc['number']}, тип: {doc['type']}, владелец: {doc['name']}, полка хранения: {k}\") \n",
    "    return\n",
    "                        "
   ]
  },
  {
   "cell_type": "code",
   "execution_count": 9,
   "metadata": {
    "executionInfo": {
     "elapsed": 585,
     "status": "ok",
     "timestamp": 1617127081914,
     "user": {
      "displayName": "Галина Купаева",
      "photoUrl": "",
      "userId": "06657045830531362554"
     },
     "user_tz": -300
    },
    "id": "-JBNy5hXPQ0d"
   },
   "outputs": [],
   "source": [
    "# Пользователь по команде “as” может добавить новую полку\n",
    "def now_plase(directories):\n",
    "    number_plase = input('Введите номер полки: ')\n",
    "    if number_plase in directories.keys():\n",
    "        print('Такая полка уже существует. Текущий перечень полок:', ', '.join(list(directories.keys())))\n",
    "    else:\n",
    "        directories.setdefault(number_plase)\n",
    "        directories[number_plase] = []\n",
    "        #print('Полка добавлена. Текущий перечень полок:', list(directories.keys()))\n",
    "        print('Полка добавлена. Текущий перечень полок:', ', '.join(list(directories.keys())))\n",
    "    return \n"
   ]
  },
  {
   "cell_type": "code",
   "execution_count": 10,
   "metadata": {
    "executionInfo": {
     "elapsed": 557,
     "status": "ok",
     "timestamp": 1617127154406,
     "user": {
      "displayName": "Галина Купаева",
      "photoUrl": "",
      "userId": "06657045830531362554"
     },
     "user_tz": -300
    },
    "id": "UI9xVY2PPQ0e"
   },
   "outputs": [],
   "source": [
    "# Пользователь по команде “ds” может удалить существующую полку из данных (только если она пустая)\n",
    "def del_plase(directories):\n",
    "    number_plase = input('Введите номер полки: ')\n",
    "    if number_plase in directories.keys():\n",
    "        if directories[number_plase] != []:\n",
    "            print('На полке есть документы, удалите их перед удалением полки. Текущий перечень полок:', ', '.join(list(directories.keys())))\n",
    "        else:\n",
    "            del(directories[number_plase])\n",
    "            print('Полка удалена. Текущий перечень полок:', ', '.join(list(directories.keys())))\n",
    "    else:\n",
    "        print('Такой полки не существует. Текущий перечень полок:', ', '.join(list(directories.keys())))\n",
    "    return \n",
    "   "
   ]
  },
  {
   "cell_type": "code",
   "execution_count": null,
   "metadata": {},
   "outputs": [],
   "source": []
  }
 ],
 "metadata": {
  "colab": {
   "collapsed_sections": [],
   "name": "Копия блокнота \"3_functions(2 вар).ipynb\"",
   "provenance": [
    {
     "file_id": "1sId-v395HQR_DiL-Yw-rV-DzZA3GJTeT",
     "timestamp": 1617075992391
    }
   ]
  },
  "kernelspec": {
   "display_name": "Python 3",
   "language": "python",
   "name": "python3"
  },
  "language_info": {
   "codemirror_mode": {
    "name": "ipython",
    "version": 3
   },
   "file_extension": ".py",
   "mimetype": "text/x-python",
   "name": "python",
   "nbconvert_exporter": "python",
   "pygments_lexer": "ipython3",
   "version": "3.7.6"
  }
 },
 "nbformat": 4,
 "nbformat_minor": 1
}
