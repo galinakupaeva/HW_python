{
 "cells": [
  {
   "cell_type": "markdown",
   "metadata": {},
   "source": [
    "Исходные данные"
   ]
  },
  {
   "cell_type": "code",
   "execution_count": 1,
   "metadata": {},
   "outputs": [],
   "source": [
    "# Перечень документов\n",
    "documents = [\n",
    "{'type': 'passport', 'number': '2207 876234', 'name': 'Василий Гупкин'},\n",
    "{'type': 'invoice', 'number': '11-2', 'name': 'Геннадий Покемонов'},\n",
    "{'type': 'insurance', 'number': '10006', 'name': 'Аристарх Павлов'}\n",
    "]"
   ]
  },
  {
   "cell_type": "code",
   "execution_count": 2,
   "metadata": {},
   "outputs": [],
   "source": [
    "# Перечень полок\n",
    "directories = {\n",
    "'1': ['2207 876234', '11-2'],\n",
    "'2': ['10006'],\n",
    "'3': []\n",
    "}"
   ]
  },
  {
   "cell_type": "markdown",
   "metadata": {},
   "source": [
    "### Задание 1\n",
    "#### Пункт 1. Пользователь по команде “p” может узнать владельца документа по его номеру"
   ]
  },
  {
   "cell_type": "code",
   "execution_count": 3,
   "metadata": {},
   "outputs": [
    {
     "name": "stdout",
     "output_type": "stream",
     "text": [
      "Введи команду: p\n",
      "Введите номер документа: 10006\n",
      "Аристарх Павлов\n"
     ]
    }
   ],
   "source": [
    "command = input('Введи команду: ')\n",
    "if command == 'p':\n",
    "    def name_by_number(document):\n",
    "        number_doc = input('Введите номер документа: ')\n",
    "        for doc in document:\n",
    "            if (doc['number'] == number_doc):\n",
    "                return print(doc['name'])\n",
    "        print('Документ не найден в базе')\n",
    "    \n",
    "name_by_number(documents)"
   ]
  },
  {
   "cell_type": "markdown",
   "metadata": {},
   "source": [
    "#### Пункт 2. Пользователь по команде “s” может по номеру документа узнать на какой полке он хранится"
   ]
  },
  {
   "cell_type": "code",
   "execution_count": 4,
   "metadata": {},
   "outputs": [
    {
     "name": "stdout",
     "output_type": "stream",
     "text": [
      "Введи команду: s\n",
      "Введите номер документа: 10006\n",
      "Документ хранится на полке: 2\n"
     ]
    }
   ],
   "source": [
    "command = input('Введи команду: ')\n",
    "if command == 's':\n",
    "    def plase_by_number(directories):\n",
    "        number_doc = input('Введите номер документа: ')\n",
    "        for k, v in directories.items():\n",
    "            if number_doc in list(v):\n",
    "                return print('Документ хранится на полке:', k)\n",
    "        print('Документ не найден в базе')\n",
    "        \n",
    "plase_by_number(directories) "
   ]
  },
  {
   "cell_type": "markdown",
   "metadata": {},
   "source": [
    "#### Пункт 3. Пользователь по команде “l” может увидеть полную информацию по всем документам"
   ]
  },
  {
   "cell_type": "code",
   "execution_count": 5,
   "metadata": {},
   "outputs": [
    {
     "name": "stdout",
     "output_type": "stream",
     "text": [
      "Введи команду: 1\n",
      "{'№': '2207 876234', 'тип': 'passport', 'владелец': 'Василий Гупкин', 'полка хранения': '1'}\n",
      "{'№': '11-2', 'тип': 'invoice', 'владелец': 'Геннадий Покемонов', 'полка хранения': '1'}\n",
      "{'№': '10006', 'тип': 'insurance', 'владелец': 'Аристарх Павлов', 'полка хранения': '2'}\n"
     ]
    }
   ],
   "source": [
    "command = input('Введи команду: ')\n",
    "if command == 'l':\n",
    "    def general_information(document, directories):\n",
    "        document_2 = document.copy()\n",
    "        directories_2 = directories.copy()\n",
    "        for doc1 in document_2:\n",
    "            doc1['№'] = doc1.pop('number')\n",
    "            doc1['тип'] = doc1.pop('type')\n",
    "            doc1['владелец'] = doc1.pop('name')\n",
    "        for doc in document_2:\n",
    "            for k, v in directories_2.items():\n",
    "                if (doc['№'] in list(v)):\n",
    "                    doc['полка хранения'] = k\n",
    "                    print(doc)\n",
    "        return\n",
    "                        \n",
    "                                                \n",
    "general_information(documents, directories)          \n",
    "        "
   ]
  },
  {
   "cell_type": "markdown",
   "metadata": {},
   "source": [
    "#### Пункт 4. Пользователь по команде “as” может добавить новую полку"
   ]
  },
  {
   "cell_type": "code",
   "execution_count": 22,
   "metadata": {},
   "outputs": [
    {
     "name": "stdout",
     "output_type": "stream",
     "text": [
      "Введи команду: 1\n",
      "Введите номер полки: 6\n",
      "Полка добавлена. Текущий перечень полок: ['1', '2', '3', '6']\n"
     ]
    }
   ],
   "source": [
    "command = input('Введи команду: ')\n",
    "if command == 'as':\n",
    "    def now_plase(directories):\n",
    "        directories_2 = directories.copy()\n",
    "        number_plase = input('Введите номер полки: ')\n",
    "        if number_plase in directories_2.keys():\n",
    "            print('Такая полка уже существует. Текущий перечень полок:', list(directories_2.keys()))\n",
    "        else:\n",
    "            directories_2.setdefault(number_plase)\n",
    "            print('Полка добавлена. Текущий перечень полок:', list(directories_2.keys()))\n",
    "        return \n",
    "    \n",
    "now_plase(directories)    "
   ]
  },
  {
   "cell_type": "markdown",
   "metadata": {},
   "source": [
    "#### Пункт 5. Пользователь по команде “ds” может удалить существующую полку из данных (только если она пустая)"
   ]
  },
  {
   "cell_type": "code",
   "execution_count": 31,
   "metadata": {},
   "outputs": [
    {
     "name": "stdout",
     "output_type": "stream",
     "text": [
      "Введи команду: 3\n",
      "Введите номер полки: 5\n",
      "Такой полки не существует. Текущий перечень полок: ['1', '2', '3']\n"
     ]
    }
   ],
   "source": [
    "command = input('Введи команду: ')\n",
    "if command == 'ds':\n",
    "    def del_plase(directories):\n",
    "        directories_2 = directories.copy()\n",
    "        number_plase = input('Введите номер полки: ')\n",
    "        if number_plase in directories_2.keys():\n",
    "            if directories_2[number_plase] != []:\n",
    "                print('На полке есть документы, удалите их перед удалением полки. Текущий перечень полок:', list(directories_2.keys()))\n",
    "            else:\n",
    "                del(directories_2[number_plase])\n",
    "                print('Полка удалена. Текущий перечень полок:', list(directories_2.keys()))\n",
    "        else:\n",
    "            print('Такой полки не существует. Текущий перечень полок:', list(directories_2.keys()))\n",
    "        return \n",
    "    \n",
    "del_plase(directories)    "
   ]
  },
  {
   "cell_type": "markdown",
   "metadata": {},
   "source": [
    "### Итоговая работа с базой данных"
   ]
  },
  {
   "cell_type": "code",
   "execution_count": 33,
   "metadata": {},
   "outputs": [
    {
     "name": "stdout",
     "output_type": "stream",
     "text": [
      "Введи команду (p/s/l/as/ds): as\n",
      "Введите номер полки: 6\n",
      "Полка добавлена. Текущий перечень полок: ['1', '2', '3', '6']\n"
     ]
    }
   ],
   "source": [
    "command = input('Введи команду (p/s/l/as/ds): ')\n",
    "if command == 'p':\n",
    "    name_by_number(documents)\n",
    "elif command == 's':\n",
    "    plase_by_number(directories)\n",
    "elif command == 'l':\n",
    "    general_information(documents, directories)\n",
    "elif command == 'as':\n",
    "    now_plase(directories)\n",
    "elif command == 'ds':\n",
    "    del_plase(directories)\n",
    "    \n",
    "\n",
    "\n",
    "    "
   ]
  }
 ],
 "metadata": {
  "kernelspec": {
   "display_name": "Python 3",
   "language": "python",
   "name": "python3"
  },
  "language_info": {
   "codemirror_mode": {
    "name": "ipython",
    "version": 3
   },
   "file_extension": ".py",
   "mimetype": "text/x-python",
   "name": "python",
   "nbconvert_exporter": "python",
   "pygments_lexer": "ipython3",
   "version": "3.7.6"
  }
 },
 "nbformat": 4,
 "nbformat_minor": 4
}
